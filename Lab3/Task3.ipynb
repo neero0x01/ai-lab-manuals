{
 "cells": [
  {
   "cell_type": "markdown",
   "id": "9bbb897e",
   "metadata": {},
   "source": [
    "# 7.3 Reverse Incremental String Slicing\n",
    "Sometimes, while working with Pythonn strings, we can have a problem in which we need to perform\n",
    "the slice and print of strings in reverse order. This can have application in day-day programming.\n",
    "So in this exercise write a program that reverse the string in incremental order.\n",
    "For Example:\n",
    "Orignal String : GIFT\n",
    "Incremental reverse strings: ['T','TF','TFI','TFIG']\n"
   ]
  },
  {
   "cell_type": "code",
   "execution_count": null,
   "id": "7d39afa9",
   "metadata": {},
   "outputs": [],
   "source": [
    "def doMagic(string):\n",
    "  lst = []\n",
    "  temp = ''\n",
    "  for ch in string[::-1]:\n",
    "    temp += ch\n",
    "    lst.append(temp)\n",
    "  return lst\n",
    "\n",
    "string = input(\"Enter a word/sentence to perform reverse incremental string slicing: \")\n",
    "print(f\"Original String: { string }\")\n",
    "print(f\"Weird String: { doMagic(string) }\")\n"
   ]
  }
 ],
 "metadata": {
  "kernelspec": {
   "display_name": "Python 3",
   "language": "python",
   "name": "python3"
  },
  "language_info": {
   "codemirror_mode": {
    "name": "ipython",
    "version": 3
   },
   "file_extension": ".py",
   "mimetype": "text/x-python",
   "name": "python",
   "nbconvert_exporter": "python",
   "pygments_lexer": "ipython3",
   "version": "3.9.5"
  }
 },
 "nbformat": 4,
 "nbformat_minor": 5
}
