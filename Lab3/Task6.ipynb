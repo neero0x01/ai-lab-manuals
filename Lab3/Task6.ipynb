{
 "cells": [
  {
   "cell_type": "markdown",
   "id": "580c539b",
   "metadata": {},
   "source": [
    "# 7.6 Sentence Capitalizer\n",
    "Write a program with a function that accepts a string as an argument and returns a copy of the\n",
    "string with the first character of each sentence capitalized. For instance, if the argument is “hello.\n",
    "my name is Joe. what is your name?” the function should return the string “Hello. My name is\n",
    "Joe. What is your name?” The program should let the user enter a string and then pass it to the\n",
    "function. The modified string should be displayed.\n"
   ]
  },
  {
   "cell_type": "code",
   "execution_count": null,
   "id": "9cb92edb",
   "metadata": {},
   "outputs": [],
   "source": [
    "def captilize_sentence(sentence):\n",
    "  new_sentence = ''\n",
    "  str = sentence.split('. ')\n",
    "  for i in str:\n",
    "    new_sentence += i.capitalize() + '. '\n",
    "  return new_sentence\n",
    "\n",
    "sentence = input(\"Enter a sentence: \")\n",
    "print(captilize_sentence(sentence))\n"
   ]
  }
 ],
 "metadata": {
  "kernelspec": {
   "display_name": "Python 3",
   "language": "python",
   "name": "python3"
  },
  "language_info": {
   "codemirror_mode": {
    "name": "ipython",
    "version": 3
   },
   "file_extension": ".py",
   "mimetype": "text/x-python",
   "name": "python",
   "nbconvert_exporter": "python",
   "pygments_lexer": "ipython3",
   "version": "3.9.5"
  }
 },
 "nbformat": 4,
 "nbformat_minor": 5
}
