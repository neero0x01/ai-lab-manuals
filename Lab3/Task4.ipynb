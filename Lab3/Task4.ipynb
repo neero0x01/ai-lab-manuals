{
 "cells": [
  {
   "cell_type": "markdown",
   "id": "9be5c672",
   "metadata": {},
   "source": [
    "# 7.4 Alphabetic Telephone Number Translator\n",
    "Many companies use telephone numbers like 555-GET-FOOD so the number is easier for their\n",
    "customers to remember. On a standard telephone, the alphabetic letters are mapped to numbers\n",
    "in the following fashion:\n",
    "Letters\n",
    "A, B, and C\n",
    "D, E, and F\n",
    "G, H, and I\n",
    "J, K, and L\n",
    "M, N, and O\n",
    "P, Q, R, and S\n",
    "T, U, and V\n",
    "W, X, Y, and Z\n",
    "Number\n",
    "2\n",
    "3\n",
    "4\n",
    "5\n",
    "6\n",
    "7\n",
    "8\n",
    "9\n",
    "Write a program that asks the user to enter a 10-character telephone number in the format XXX-\n",
    "XXX-XXXX. The application should display the telephone number with any alphabetic characters\n",
    "that appeared in the original translated to their numeric equivalent. For example, if the user enters\n",
    "555-GET-FOOD the application should display 555-438-3663.\n"
   ]
  },
  {
   "cell_type": "code",
   "execution_count": null,
   "id": "3ee18aca",
   "metadata": {},
   "outputs": [],
   "source": [
    "def doMagicAgain(num):\n",
    "  translated_num = ''\n",
    "  for ch in num:\n",
    "    if ch in 'abc'.upper():\n",
    "      translated_num += '2'\n",
    "    elif ch in 'def'.upper():\n",
    "      translated_num += '3'\n",
    "    elif ch in 'ghi'.upper():\n",
    "      translated_num += '4'\n",
    "    elif ch in 'jkl'.upper():\n",
    "      translated_num += '5'\n",
    "    elif ch in 'mno'.upper():\n",
    "      translated_num += '6'\n",
    "    elif ch in 'pqrs'.upper():\n",
    "      translated_num += '7'\n",
    "    elif ch in 'tuv'.upper():\n",
    "      translated_num += '8'\n",
    "    elif ch in 'wxyz'.upper():\n",
    "      translated_num += '9'\n",
    "    else:\n",
    "      translated_num += ch\n",
    "  return translated_num\n",
    "\n",
    "alphanum_telephone = input(f\"Enter alphabetic telephone number: \")\n",
    "print(f\"The actual number would be: { doMagicAgain(alphanum_telephone) }\")"
   ]
  }
 ],
 "metadata": {
  "kernelspec": {
   "display_name": "Python 3",
   "language": "python",
   "name": "python3"
  },
  "language_info": {
   "codemirror_mode": {
    "name": "ipython",
    "version": 3
   },
   "file_extension": ".py",
   "mimetype": "text/x-python",
   "name": "python",
   "nbconvert_exporter": "python",
   "pygments_lexer": "ipython3",
   "version": "3.9.5"
  }
 },
 "nbformat": 4,
 "nbformat_minor": 5
}
