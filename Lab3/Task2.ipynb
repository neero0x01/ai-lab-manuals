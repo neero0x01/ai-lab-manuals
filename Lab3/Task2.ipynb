{
 "cells": [
  {
   "cell_type": "markdown",
   "id": "a84e7927",
   "metadata": {},
   "source": [
    "# 7.2 Morse Code Converter\n",
    "Morse code is a code where each letter of the English alphabet, each digit, and various punctuation\n",
    "characters are represented by a series of dots and dashes. Table 8-4 shows part of the code. Write\n",
    "a program that asks the user to enter a string, and then converts that string to Morse code.\n",
    "Fig:4 Morse Code Table\n"
   ]
  },
  {
   "cell_type": "code",
   "execution_count": null,
   "id": "9e2347a5",
   "metadata": {},
   "outputs": [],
   "source": [
    "morse_code = {\n",
    "  ' ': ' ',  ',': '--..--',  '.': '.-.-.-',  '?': '..--..',\n",
    "  '0': '-----',  '1': '.----',  '2': '.----',  '3': '.----',  '4': '.----',  '5': '.----',  '6': '.----',  '7': '.----',  '8': '.----',  '9': '.----',\n",
    "  'A':'.-', 'B':'-...', 'C':'-.-.', 'D':'-..', 'E':'.', 'F':'..-.', 'G':'--.', 'H':'....', 'I':'..', 'J':'.---', 'K':'-.-', 'L':'.-..', 'M':'--', 'N':'-.', 'O':'---', 'P':'.--.', 'Q':'--.-', 'R':'.-.', 'S':'...', 'T':'-', 'U':'..-', 'V':'...-', 'W':'.--', 'X':'-..-', 'Y':'-.--', 'Z':'--..'\n",
    "}\n",
    "\n",
    "def text_to_morse_code(letters, morse_code_dict):\n",
    "  morse_code = ''\n",
    "  for alphabet in letters:\n",
    "    morse_code += morse_code_dict[alphabet.upper()] + ' '\n",
    "  return morse_code\n",
    "\n",
    "letters = input(\"Enter something to convert it into morse code: \")\n",
    "print(f\" Morse code for given string is: { text_to_morse_code(letters, morse_code) } \")\n"
   ]
  }
 ],
 "metadata": {
  "kernelspec": {
   "display_name": "Python 3",
   "language": "python",
   "name": "python3"
  },
  "language_info": {
   "codemirror_mode": {
    "name": "ipython",
    "version": 3
   },
   "file_extension": ".py",
   "mimetype": "text/x-python",
   "name": "python",
   "nbconvert_exporter": "python",
   "pygments_lexer": "ipython3",
   "version": "3.9.5"
  }
 },
 "nbformat": 4,
 "nbformat_minor": 5
}
