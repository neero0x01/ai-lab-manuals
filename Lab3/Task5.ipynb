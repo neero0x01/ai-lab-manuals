{
 "cells": [
  {
   "cell_type": "markdown",
   "id": "60704469",
   "metadata": {},
   "source": [
    "# 7.5 Password Validation\n",
    "Assume that you are writing a program for a local software house. It is a password checker program.\n",
    "Two Python built-in functions you’ll need are ord(character) and chr(asciiNumber). ord(character)\n",
    "takes a character and returns its ascii value. In opposite fashion, chr(asciiValue) takes an ascii\n",
    "value and returns a character mapped on that ascii value. Following is ascii chart.\n",
    "Fig:5 ASCII Code Table\n",
    "That particular software house sets the criteria of password as: A password is valid if and only\n",
    "if it has: * At least one lower case letter * At least one upper case letter * At least one special\n",
    "characters from the above given image. * At least one digit\n",
    "All other passwords are invalid. Use the functions described above to create this program.Summing\n",
    "up the program requirements:\n",
    "1. takes input as password from user\n",
    "2. Apply the described tests\n",
    "3. And prints whether the password is valid or invalid.\n"
   ]
  },
  {
   "cell_type": "code",
   "execution_count": null,
   "id": "64d0def6",
   "metadata": {},
   "outputs": [],
   "source": [
    "def isStrongPassword(passwd):\n",
    "  check_list = []\n",
    "  uppercase_ascii_range = list(range(65,90))\n",
    "  lowercase_ascii_range = list(range(97,122))\n",
    "  digits_ascii_range = list(range(65,90))\n",
    "  special_chars_ascii_range = list(range(32,64)) + list(range(91,96)) + list(range(123, 126))\n",
    "  for ch in passwd:\n",
    "    if ord(ch) in uppercase_ascii_range:\n",
    "      check_list.append(True)\n",
    "    elif ord(ch) in lowercase_ascii_range:\n",
    "      check_list.append(True)\n",
    "    elif ord(ch) in special_chars_ascii_range:\n",
    "      check_list.append(True)\n",
    "    elif ord(ch) in digits_ascii_range:\n",
    "      check_list.append(True)\n",
    "    else:\n",
    "      check_list.append(False)\n",
    "  return all(check_list)\n",
    "\n",
    "\n",
    "passwd = input(\"Enter a strong password: \")\n",
    "print(f\"Password is strong\") if isStrongPassword(passwd) else print(f\"Password is weak\")\n"
   ]
  }
 ],
 "metadata": {
  "kernelspec": {
   "display_name": "Python 3",
   "language": "python",
   "name": "python3"
  },
  "language_info": {
   "codemirror_mode": {
    "name": "ipython",
    "version": 3
   },
   "file_extension": ".py",
   "mimetype": "text/x-python",
   "name": "python",
   "nbconvert_exporter": "python",
   "pygments_lexer": "ipython3",
   "version": "3.9.5"
  }
 },
 "nbformat": 4,
 "nbformat_minor": 5
}
