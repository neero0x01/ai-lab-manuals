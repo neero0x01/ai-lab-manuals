{
 "cells": [
  {
   "cell_type": "markdown",
   "id": "3dc63f8f",
   "metadata": {},
   "source": [
    "# 7.1 Sum of Digits in a String\n",
    "Write a program that asks the user to enter a series of single-digit numbers with nothing separating\n",
    "them. The program should display the sum of all the single digit numbers in the string. For\n",
    "example, if the user enters 2514, the method should return 12, which is the sum of 2, 5, 1, and 4.\n"
   ]
  },
  {
   "cell_type": "code",
   "execution_count": null,
   "id": "9587fa35",
   "metadata": {},
   "outputs": [],
   "source": [
    "def sumOfAllDigits(series):\n",
    "  total = 0\n",
    "  for num in series:\n",
    "    total += int(num)\n",
    "  return total\n",
    "  \n",
    "series = input(\"Enter series of a single-digit number with nothing seperating them: \")\n",
    "print(f\"Sum: { sumOfAllDigits(series) }\")\n"
   ]
  }
 ],
 "metadata": {
  "kernelspec": {
   "display_name": "Python 3",
   "language": "python",
   "name": "python3"
  },
  "language_info": {
   "codemirror_mode": {
    "name": "ipython",
    "version": 3
   },
   "file_extension": ".py",
   "mimetype": "text/x-python",
   "name": "python",
   "nbconvert_exporter": "python",
   "pygments_lexer": "ipython3",
   "version": "3.9.5"
  }
 },
 "nbformat": 4,
 "nbformat_minor": 5
}
