{
 "cells": [
  {
   "cell_type": "markdown",
   "id": "f1370bec",
   "metadata": {},
   "source": [
    "# 7.7 Pig Latin\n",
    "Write a program that accepts a sentence as input and converts each word to “Pig Latin.” In one\n",
    "version, to convert a word to Pig Latin you remove the first letter and place that letter at the end\n",
    "of the word. Then you append the string “ay” to the word. Here is an example:\n",
    "English: I SLEPT MOST OF THE NIGHT\n",
    "Pig Latin: IAY LEPTSAY OSTMAY FOAY HETAY IGHTNAY\n"
   ]
  },
  {
   "cell_type": "code",
   "execution_count": null,
   "id": "0fb72a73",
   "metadata": {},
   "outputs": [],
   "source": [
    "def pig_latin_converter(sentence):\n",
    "  new_sentence = ''\n",
    "  str = sentence.split(' ')\n",
    "  for i in str:\n",
    "    if len(i) == 1:\n",
    "      new_sentence += i + 'AY '\n",
    "    else:\n",
    "      new_sentence += i[1:] + i[0] + 'AY '\n",
    "  return new_sentence\n",
    "\n",
    "sentence = input(\"Enter a sentence: \")\n",
    "print(pig_latin_converter(sentence))\n"
   ]
  }
 ],
 "metadata": {
  "kernelspec": {
   "display_name": "Python 3",
   "language": "python",
   "name": "python3"
  },
  "language_info": {
   "codemirror_mode": {
    "name": "ipython",
    "version": 3
   },
   "file_extension": ".py",
   "mimetype": "text/x-python",
   "name": "python",
   "nbconvert_exporter": "python",
   "pygments_lexer": "ipython3",
   "version": "3.9.5"
  }
 },
 "nbformat": 4,
 "nbformat_minor": 5
}
