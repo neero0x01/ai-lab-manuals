{
 "cells": [
  {
   "cell_type": "markdown",
   "id": "77708c24",
   "metadata": {},
   "source": [
    "# Male and Female Percentages\n",
    "\n",
    "Write a program that asks the user for the number of males and the number of females registered\n",
    "in a class. The program should display the percentage of males and females in the class.\n",
    "Hint: Suppose there are 8 males and 12 females in a class. There are 20 students in the class. The\n",
    "percentage of males can be calculated as 8 4 20 5 0.4, or 40%. The percentage of females can be\n",
    "calculated as 12 4 20 5 0.6, or 60%."
   ]
  },
  {
   "cell_type": "code",
   "execution_count": 1,
   "id": "eda961c4",
   "metadata": {},
   "outputs": [
    {
     "name": "stdout",
     "output_type": "stream",
     "text": [
      "Enter the number of male students in the class: 8\n",
      "Enter the number of female students in the class: 12\n",
      "The male percentage in class is 40.0%\n",
      "The female percentage in class is 60.0%\n"
     ]
    }
   ],
   "source": [
    "\"\"\"\n",
    "  Task4: Male and Female Percentages\n",
    "\"\"\"\n",
    "\n",
    "no_of_male_students = int(input(\"Enter the number of male students in the class: \"))\n",
    "\n",
    "no_of_female_students = int(input(\"Enter the number of female students in the class: \"))\n",
    "\n",
    "total_no_students = no_of_male_students + no_of_female_students\n",
    "\n",
    "male_students_percentage = (no_of_male_students / total_no_students)\n",
    "\n",
    "female_students_percentage = ( no_of_female_students / total_no_students)\n",
    "\n",
    "print(f\"The male percentage in class is { round(male_students_percentage * 100, 2) }%\")\n",
    "print(f\"The female percentage in class is { round(female_students_percentage * 100, 2) }%\")\n"
   ]
  },
  {
   "cell_type": "code",
   "execution_count": null,
   "id": "5f6b9916",
   "metadata": {},
   "outputs": [],
   "source": []
  }
 ],
 "metadata": {
  "kernelspec": {
   "display_name": "Python 3",
   "language": "python",
   "name": "python3"
  },
  "language_info": {
   "codemirror_mode": {
    "name": "ipython",
    "version": 3
   },
   "file_extension": ".py",
   "mimetype": "text/x-python",
   "name": "python",
   "nbconvert_exporter": "python",
   "pygments_lexer": "ipython3",
   "version": "3.9.5"
  }
 },
 "nbformat": 4,
 "nbformat_minor": 5
}
