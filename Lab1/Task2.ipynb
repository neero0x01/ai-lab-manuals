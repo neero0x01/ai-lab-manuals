{
 "cells": [
  {
   "cell_type": "markdown",
   "id": "2da9d65f",
   "metadata": {},
   "source": [
    "# Tip, Tax and Total\n",
    "\n",
    "Write a program that calculates the total amount of a meal purchased at a restaurant. The program\n",
    "should ask the user to enter the charge for the food, and then calculate the amount of a 18 percent\n",
    "tip and 7 percent sales tax. Display each of these amounts and the total.\n"
   ]
  },
  {
   "cell_type": "code",
   "execution_count": 1,
   "id": "1a6a1a05",
   "metadata": {},
   "outputs": [
    {
     "name": "stdout",
     "output_type": "stream",
     "text": [
      "Enter the amount of meal purchased: 1200\n",
      "The amount of meal purchased is: 1200\n",
      "The sales tax is: 84.0\n",
      "The tip amount is: 216.0\n",
      "The Total amount is: 1500.0\n"
     ]
    }
   ],
   "source": [
    "\"\"\"\n",
    "  Task 2: Tip, Tax and Total\n",
    "\"\"\"\n",
    "\n",
    "food_order_amount = int(input(\"Enter the amount of meal purchased: \"))\n",
    "sales_tax_amount = round(food_order_amount * 0.07, 2)\n",
    "tip_amount = food_order_amount * 0.18\n",
    "\n",
    "print(f\"The amount of meal purchased is: {food_order_amount}\")\n",
    "print(f\"The sales tax is: {sales_tax_amount}\")\n",
    "print(f\"The tip amount is: {tip_amount}\")\n",
    "print(f\"The Total amount is: {tip_amount + sales_tax_amount + food_order_amount}\")\n"
   ]
  }
 ],
 "metadata": {
  "kernelspec": {
   "display_name": "Python 3",
   "language": "python",
   "name": "python3"
  },
  "language_info": {
   "codemirror_mode": {
    "name": "ipython",
    "version": 3
   },
   "file_extension": ".py",
   "mimetype": "text/x-python",
   "name": "python",
   "nbconvert_exporter": "python",
   "pygments_lexer": "ipython3",
   "version": "3.9.5"
  }
 },
 "nbformat": 4,
 "nbformat_minor": 5
}
