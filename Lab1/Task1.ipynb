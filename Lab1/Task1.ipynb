{
 "cells": [
  {
   "cell_type": "markdown",
   "id": "f4500873",
   "metadata": {},
   "source": [
    "# Sales Tax\n",
    "\n",
    "Write a program that will ask the user to enter the amount of a purchase. The program should then\n",
    "compute the state and county sales tax. Assume the state sales tax is 5 percent and the county\n",
    "sales tax is 2.5 percent. The program should display the following: * The amount of the purchase\n",
    "* The state sales tax * The county sales tax * The total sales tax * and the total of the sale (which\n",
    "is the sum of the amount of purchase plus the total sales tax).\n"
   ]
  },
  {
   "cell_type": "code",
   "execution_count": 1,
   "id": "0d389633",
   "metadata": {
    "scrolled": true
   },
   "outputs": [
    {
     "name": "stdout",
     "output_type": "stream",
     "text": [
      "Enter the amount of purchase: 100\n",
      "The amount of purchase is: 100\n",
      "The State sales tax is: 5.0\n",
      "The Country sales tax is: 2.5\n",
      "The Total sales tax is: 7.5\n",
      "The Total of the sale is: 107.5\n"
     ]
    }
   ],
   "source": [
    "\"\"\"\n",
    "  Task 1: Sales Tax\n",
    "\"\"\"\n",
    "\n",
    "purchase_amount = int(input(\"Enter the amount of purchase: \"))\n",
    "state_sales_tax = purchase_amount * 0.05\n",
    "country_sales_tax = purchase_amount * 0.025\n",
    "\n",
    "print(f\"The amount of purchase is: {purchase_amount}\")\n",
    "print(f\"The State sales tax is: {state_sales_tax}\")\n",
    "print(f\"The Country sales tax is: {country_sales_tax}\")\n",
    "print(f\"The Total sales tax is: {country_sales_tax + state_sales_tax}\")\n",
    "print(f\"The Total of the sale is: {purchase_amount + state_sales_tax + country_sales_tax}\")\n"
   ]
  }
 ],
 "metadata": {
  "kernelspec": {
   "display_name": "Python 3",
   "language": "python",
   "name": "python3"
  },
  "language_info": {
   "codemirror_mode": {
    "name": "ipython",
    "version": 3
   },
   "file_extension": ".py",
   "mimetype": "text/x-python",
   "name": "python",
   "nbconvert_exporter": "python",
   "pygments_lexer": "ipython3",
   "version": "3.9.5"
  }
 },
 "nbformat": 4,
 "nbformat_minor": 5
}
