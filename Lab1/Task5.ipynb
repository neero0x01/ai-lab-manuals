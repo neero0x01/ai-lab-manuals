{
 "cells": [
  {
   "cell_type": "markdown",
   "id": "28534129",
   "metadata": {},
   "source": [
    "# Stock Transation Program\n",
    "\n",
    "Last month Joe purchased some stock in Acme Software, Inc. Here are the details of the purchase:\n",
    "* The number of shares that Joe purchased was 2,000. * When Joe purchased the stock, he paid\n",
    "40.00 Dollar per share. * Joe paid his stockbroker a commission that amounted to 3 percent of the\n",
    "amount he paid for the stock.\n",
    "Two weeks later Joe sold the stock. Here are the details of the sale: * The number of shares that\n",
    "Joe sold was 2,000. * He sold the stock for 42.75 Dollar per share. * He paid his stockbroker\n",
    "another commission that amounted to 3 percent of the amount he received for the stock.\n",
    "Write a program that displays the following information: * The amount of money Joe paid for the\n",
    "stock. * The amount of commission Joe paid his broker when he bought the stock. * The amount\n",
    "that Joe sold the stock for. * The amount of commission Joe paid his broker when he sold the\n",
    "stock. * Display the amount of money that Joe had left when he sold the stock and paid his broker\n",
    "(both times). If this amount is positive, then Joe made a profit. If the amount is negative, then\n",
    "Joe lost money.\n"
   ]
  },
  {
   "cell_type": "code",
   "execution_count": 1,
   "id": "73e90c04",
   "metadata": {},
   "outputs": [
    {
     "name": "stdout",
     "output_type": "stream",
     "text": [
      "The amount of money Joe paid for the stocks: 80000\n",
      "The commission Joe paid his broker: 2400.0\n",
      " Joe Sold Stocks for 85500.0 \n",
      "The amount of commission Joe paid his broker when he sold the shares: 2400.0\n",
      " The amount of money that joe had left with after selling the stocks 80535.0\n"
     ]
    }
   ],
   "source": [
    "\"\"\"\n",
    "  Task5: Stock Transation Program\n",
    "\"\"\"\n",
    "\n",
    "no_of_shares_bought = 2000\n",
    "price_of_each_share_bought = 40\n",
    "broker_commission_when_bought_shares = (no_of_shares_bought * price_of_each_share_bought) * 0.03\n",
    "\n",
    "\n",
    "no_of_shares_sold = 2000\n",
    "price_of_each_share_sold = 42.75\n",
    "broker_commission_when_sold_shares = (no_of_shares_sold * price_of_each_share_sold) * 0.03\n",
    "\n",
    "print(f\"The amount of money Joe paid for the stocks: { no_of_shares_bought * price_of_each_share_bought }\")\n",
    "\n",
    "print(f\"The commission Joe paid his broker: { broker_commission_when_bought_shares }\")\n",
    "\n",
    "print(f\"Joe Sold Stocks for { no_of_shares_sold * price_of_each_share_sold } \")\n",
    "\n",
    "print(f\"The amount of commission Joe paid his broker when he sold the shares: { broker_commission_when_bought_shares }\")\n",
    "\n",
    "print(f\" The amount of money that joe had left with after selling the stocks { no_of_shares_sold * price_of_each_share_sold - broker_commission_when_sold_shares - broker_commission_when_bought_shares }\")\n"
   ]
  }
 ],
 "metadata": {
  "kernelspec": {
   "display_name": "Python 3",
   "language": "python",
   "name": "python3"
  },
  "language_info": {
   "codemirror_mode": {
    "name": "ipython",
    "version": 3
   },
   "file_extension": ".py",
   "mimetype": "text/x-python",
   "name": "python",
   "nbconvert_exporter": "python",
   "pygments_lexer": "ipython3",
   "version": "3.9.5"
  }
 },
 "nbformat": 4,
 "nbformat_minor": 5
}
