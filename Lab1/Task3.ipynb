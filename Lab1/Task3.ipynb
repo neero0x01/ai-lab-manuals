{
 "cells": [
  {
   "cell_type": "markdown",
   "id": "d4c70618",
   "metadata": {},
   "source": [
    "# Ingredient Adjuster\n",
    "\n",
    "A cookie recipe calls for the following ingredients: * 1.5 cups of sugar * 1 cup of butter * 2.75 cups\n",
    "of flour\n",
    "The recipe produces 48 cookies with this amount of the ingredients. Write a program that asks\n",
    "the user how many cookies he or she wants to make, and then displays the number of cups of each\n",
    "ingredient needed for the specified number of cookies.\n"
   ]
  },
  {
   "cell_type": "code",
   "execution_count": 1,
   "id": "fbec7f79",
   "metadata": {},
   "outputs": [
    {
     "name": "stdout",
     "output_type": "stream",
     "text": [
      "Enter the number of cookies you want? 48\n",
      "The quantity of sugar required for 48 number of cokkies is: 1.5\n",
      "The quantity of butter required for 48 number of cokkies is: 1.0\n",
      "The quantity of flour required for 48 number of cokkies is: 2.75\n"
     ]
    }
   ],
   "source": [
    "\"\"\"\n",
    "  Task3: Ingredient Adjuster\n",
    "\"\"\"\n",
    "\n",
    "sugar_for_one_cookie = 1.5 / 48\n",
    "butter_for_one_cookie = 1 / 48\n",
    "flour_for_one_cookie = 2.75 / 48\n",
    "\n",
    "number_of_cookes = int(input(\"Enter the number of cookies you want? \"))\n",
    "\n",
    "print(f\"The quantity of sugar required for { number_of_cookes } number of cokkies is: {number_of_cookes * sugar_for_one_cookie}\")\n",
    "print(f\"The quantity of butter required for { number_of_cookes } number of cokkies is: { round(number_of_cookes * butter_for_one_cookie, 3) }\")\n",
    "print(f\"The quantity of flour required for { number_of_cookes } number of cokkies is: { round(number_of_cookes * flour_for_one_cookie, 3) }\")\n"
   ]
  },
  {
   "cell_type": "code",
   "execution_count": null,
   "id": "03f0a5a2",
   "metadata": {},
   "outputs": [],
   "source": []
  }
 ],
 "metadata": {
  "kernelspec": {
   "display_name": "Python 3",
   "language": "python",
   "name": "python3"
  },
  "language_info": {
   "codemirror_mode": {
    "name": "ipython",
    "version": 3
   },
   "file_extension": ".py",
   "mimetype": "text/x-python",
   "name": "python",
   "nbconvert_exporter": "python",
   "pygments_lexer": "ipython3",
   "version": "3.9.5"
  }
 },
 "nbformat": 4,
 "nbformat_minor": 5
}
