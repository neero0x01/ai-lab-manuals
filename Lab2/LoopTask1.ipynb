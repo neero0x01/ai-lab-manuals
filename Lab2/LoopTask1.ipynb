{
 "cells": [
  {
   "cell_type": "code",
   "execution_count": null,
   "id": "167fd337",
   "metadata": {},
   "outputs": [],
   "source": [
    "8.1\n",
    " Budget Analysis\n",
    "Write a program that asks the user to enter the amount that he or she has budgeted for a month.\n",
    "A loop should then prompt the user to enter each of his or her expenses for the month and keep\n",
    "a running total. When the loop finishes, the program should display the amount that the user is\n",
    "over or under budget.\n"
   ]
  },
  {
   "cell_type": "code",
   "execution_count": null,
   "id": "7fc735ff",
   "metadata": {},
   "outputs": [],
   "source": [
    "budget = float(input('How much have you budgeted this month?'))\n",
    "expense = 0\n",
    "check = 0\n",
    "while check >= 0:\n",
    "  check = float(input('Enter an expense amount or -1 to quit: '))\n",
    "  if check != -1:\n",
    "    expense += check\n",
    "    balance = budget -expense\n",
    "if balance < 0:\n",
    "  print('You have not budgeted enough, You are going to be short this month')\n",
    "elif balance == 0 :\n",
    "  print('Be careful, You have budgeted enough to make it through this month')\n",
    "else:\n",
    "  print(f'You will have extra {balance} this month')\n"
   ]
  }
 ],
 "metadata": {
  "kernelspec": {
   "display_name": "Python 3",
   "language": "python",
   "name": "python3"
  },
  "language_info": {
   "codemirror_mode": {
    "name": "ipython",
    "version": 3
   },
   "file_extension": ".py",
   "mimetype": "text/x-python",
   "name": "python",
   "nbconvert_exporter": "python",
   "pygments_lexer": "ipython3",
   "version": "3.9.5"
  }
 },
 "nbformat": 4,
 "nbformat_minor": 5
}
