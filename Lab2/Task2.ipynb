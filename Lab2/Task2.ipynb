{
 "cells": [
  {
   "cell_type": "markdown",
   "id": "1afe2db2",
   "metadata": {},
   "source": [
    "7.2\n",
    " Hot Dogs Cookout Calculator\n",
    "Assume that hot dogs come in packages of 10, and hot dog buns come in packages of 8. Write a\n",
    "program that calculates the number of packages of hot dogs and the number of packages of hot dog\n",
    "buns needed for a cookout, with the minimum amount of leftovers. The program should ask the\n",
    "user for the number of people attending the cookout and the number of hot dogs each person will\n",
    "be given. The program should display the following details: * The minimum number of packages\n",
    "of hot dogs required * The minimum number of packages of hot dog buns required * The number\n",
    "of hot dogs that will be left over * The number of hot dog buns that will be left over\n"
   ]
  },
  {
   "cell_type": "code",
   "execution_count": null,
   "id": "f91dd83a",
   "metadata": {},
   "outputs": [],
   "source": [
    "no_of_people = input(\"Enter the number of people attending the cookout\")\n",
    "no_of_hotdogs_per_person = input(\"Enter the number of hotdogs each person should be fiven\")\n",
    "no_of_hotdogs_per_pack = 10\n",
    "no_of_hotdogs_buns_per_pack = 8\n",
    "\n",
    "total_hotdogs = no_of_people * no_of_hotdogs_per_person\n",
    "\n",
    "no_of_hotdogs_packs_required = total_hotdogs // no_of_hotdogs_buns_per_pack\n",
    "no_of_hotdogs_buns_required = total_hotdogs // no_of_hotdogs_buns_per_pack\n",
    "no_of_hotdogs_leftovers = total_hotdogs % no_of_hotdogs_buns_per_pack\n",
    "no_of_hotdogs_buns_leftovers = total_hotdogs % no_of_hotdogs_buns_per_pack\n",
    "\n",
    "print(f\"Minumun number of hotdogs packs required: {no_of_hotdogs_packs_required}\")\n",
    "print(f\"Minimum number of buns packed required: {no_of_hotdogs_buns_required}\")\n",
    "print(f\"Number of hot dogs leftover {no_of_hotdogs_leftovers}\")\n",
    "print(f\"Number of hot dofs buns leftover {no_of_hotdogs_buns_leftovers}\")\n"
   ]
  }
 ],
 "metadata": {
  "kernelspec": {
   "display_name": "Python 3",
   "language": "python",
   "name": "python3"
  },
  "language_info": {
   "codemirror_mode": {
    "name": "ipython",
    "version": 3
   },
   "file_extension": ".py",
   "mimetype": "text/x-python",
   "name": "python",
   "nbconvert_exporter": "python",
   "pygments_lexer": "ipython3",
   "version": "3.9.5"
  }
 },
 "nbformat": 4,
 "nbformat_minor": 5
}
