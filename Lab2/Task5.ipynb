{
 "cells": [
  {
   "cell_type": "markdown",
   "id": "7c96f2ae",
   "metadata": {},
   "source": [
    "7.5\n",
    " Shipping Charges\n",
    "The Fast Freight Shipping Company charges the following rates:\n",
    "Weight of Package\n",
    "2 pounds or less\n",
    "Over 2 pounds but not more than 6 pounds\n",
    "Over 6 pounds but not more than 10 pounds\n",
    "Over 10 pounds\n",
    "Rate per Pound (Dollar)\n",
    "1.50\n",
    "3.00\n",
    "4.00\n",
    "4.75\n",
    "Write a program that asks the user to enter the weight of a package and then displays the shipping\n",
    "charges.\n"
   ]
  },
  {
   "cell_type": "code",
   "execution_count": null,
   "id": "a7f94f3c",
   "metadata": {},
   "outputs": [],
   "source": [
    "package_weight = float(input(\"Enter the weight of the package in pounds : \"))\n",
    "if package_weight <= 2:\n",
    "    rate_per_pound = 1.50\n",
    "    shipping = package_weight * rate_per_pound\n",
    "    print(package_weight,\"pounds will cost you $1.50 per pound.\")\n",
    "    print(\"\\nThe shipping charges are : \",shipping)\n",
    "elif package_weight > 2 and package_weight <= 6:\n",
    "    rate_per_pound = 3.00\n",
    "    shipping = package_weight * rate_per_pound\n",
    "    print(package_weight,\"pounds will cost you $3.00 per pound.\")\n",
    "    print(\"\\nThe shipping charges are : \",shipping)\n",
    "elif package_weight > 6 and package_weight <= 10:\n",
    "    rate_per_pound = 4.00\n",
    "    shipping = package_weight * rate_per_pound\n",
    "    print(package_weight,\"pounds will cost you $4.00 per pound.\")\n",
    "    print(\"\\nThe shipping charges are : \",shipping)\n",
    "elif package_weight > 10 :\n",
    "    rate_per_pound = 4.75\n",
    "    shipping = package_weight * rate_per_pound\n",
    "    print(package_weight,\"pounds will cost you $4.75 per pound.\")\n",
    "    print(\"\\nThe shipping charges are : \",shipping)\n"
   ]
  }
 ],
 "metadata": {
  "kernelspec": {
   "display_name": "Python 3",
   "language": "python",
   "name": "python3"
  },
  "language_info": {
   "codemirror_mode": {
    "name": "ipython",
    "version": 3
   },
   "file_extension": ".py",
   "mimetype": "text/x-python",
   "name": "python",
   "nbconvert_exporter": "python",
   "pygments_lexer": "ipython3",
   "version": "3.9.5"
  }
 },
 "nbformat": 4,
 "nbformat_minor": 5
}
