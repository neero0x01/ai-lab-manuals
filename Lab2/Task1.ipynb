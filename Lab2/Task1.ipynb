{
 "cells": [
  {
   "cell_type": "markdown",
   "id": "d5ba43a0",
   "metadata": {},
   "source": [
    "7.1\n",
    " Mass and Weight\n",
    "Scientists measure an object’s mass in kilograms and its weight in newtons. If you know the amount\n",
    "of mass of an object in kilograms, you can calculate its weight in newtons with the following formula:\n",
    "**\n",
    "weight = mass * 3 9.8\n",
    "** Write a program that asks the user to enter an object’s mass, and then calculates its weight. If\n",
    "the object weighs more than 500 newtons, display a message indicating that it is too heavy. If the\n",
    "object weighs less than 100 newtons, display a message indicating that it is too light.\n"
   ]
  },
  {
   "cell_type": "code",
   "execution_count": null,
   "id": "2b0f18e1",
   "metadata": {},
   "outputs": [],
   "source": [
    "mass = int(input(\"Enter an object's mass\"))\n",
    "weight = mass * 39.8\n",
    "\n",
    "if weight > 500:\n",
    "  print(\"It's too heavy\")\n",
    "elif weight < 100:\n",
    "  print(\"It's too light\")\n"
   ]
  }
 ],
 "metadata": {
  "kernelspec": {
   "display_name": "Python 3",
   "language": "python",
   "name": "python3"
  },
  "language_info": {
   "codemirror_mode": {
    "name": "ipython",
    "version": 3
   },
   "file_extension": ".py",
   "mimetype": "text/x-python",
   "name": "python",
   "nbconvert_exporter": "python",
   "pygments_lexer": "ipython3",
   "version": "3.9.5"
  }
 },
 "nbformat": 4,
 "nbformat_minor": 5
}
