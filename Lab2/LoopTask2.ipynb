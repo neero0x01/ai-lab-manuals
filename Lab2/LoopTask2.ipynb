{
 "cells": [
  {
   "cell_type": "markdown",
   "id": "9e77e118",
   "metadata": {},
   "source": [
    "8.2\n",
    " Average Rainfall\n",
    "Write a program that uses nested loops to collect data and calculate the average rainfall over a\n",
    "period of years. The program should first ask for the number of years. The outer loop will iterate\n",
    "once for each year. The inner loop will iterate twelve times, once for each month. Each iteration\n",
    "of the inner loop will ask the user for the inches of rainfall for that month. After all iterations, the\n",
    "program should display the number of months, the total inches of rainfall, and the average rainfall\n",
    "per month for the entire period.\n"
   ]
  },
  {
   "cell_type": "code",
   "execution_count": null,
   "id": "901b7f5e",
   "metadata": {},
   "outputs": [],
   "source": [
    "num_year = int(input('Enter number of years: '))\n",
    "rainfall = 0\n",
    "for year in range(1, num_year+1):\n",
    "  for month in range(1,13):\n",
    "    rain_value = float(input(f'Enter no of inches of rainfall for,month{month} of year {year} : '))\n",
    "    rainfall += rain_value\n",
    "num_months = num_year * 12\n",
    "avg_rainfall = rainfall / num_months\n",
    "print(f'The total no of rainfall during these {num_months} months was,{rainfall} inches')\n",
    "print('The average rainfall per month was ',avg_rainfall)\n"
   ]
  }
 ],
 "metadata": {
  "kernelspec": {
   "display_name": "Python 3",
   "language": "python",
   "name": "python3"
  },
  "language_info": {
   "codemirror_mode": {
    "name": "ipython",
    "version": 3
   },
   "file_extension": ".py",
   "mimetype": "text/x-python",
   "name": "python",
   "nbconvert_exporter": "python",
   "pygments_lexer": "ipython3",
   "version": "3.9.5"
  }
 },
 "nbformat": 4,
 "nbformat_minor": 5
}
