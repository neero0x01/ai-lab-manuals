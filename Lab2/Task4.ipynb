{
 "cells": [
  {
   "cell_type": "markdown",
   "id": "6e2cec97",
   "metadata": {},
   "source": [
    "7.4\n",
    " Software Sales\n",
    "A software company sells a package that retails for $99. Quantity discounts are given according to\n",
    "the following table:\n",
    "Quantity\n",
    "10–19\n",
    "20–49\n",
    "50–99\n",
    "100 or more\n",
    "Discount\n",
    "10%\n",
    "20%\n",
    "30%\n",
    "40%\n",
    "Write a program that asks the user to enter the number of packages purchased. The program\n",
    "should then display the amount of the discount (if any) and the total amount of the purchase after\n",
    "the discount.\n"
   ]
  },
  {
   "cell_type": "code",
   "execution_count": null,
   "id": "9153585f",
   "metadata": {},
   "outputs": [],
   "source": [
    "weight = float(input(\"Enter the weight of the package in pounds: \"))\n",
    "if weight <= 2:\n",
    "  rate = 1.50\n",
    "elif weight > 2 and weight <=6:\n",
    "  rate = 3.0\n",
    "elif weight > 6 and weight <=10:\n",
    "  rate = 4.0\n",
    "elif weight > 10:\n",
    "  rate = 4.75\n",
    "shipping = weight * rate\n",
    "print(f\"Shipping charge: {shipping}\")\n"
   ]
  }
 ],
 "metadata": {
  "kernelspec": {
   "display_name": "Python 3",
   "language": "python",
   "name": "python3"
  },
  "language_info": {
   "codemirror_mode": {
    "name": "ipython",
    "version": 3
   },
   "file_extension": ".py",
   "mimetype": "text/x-python",
   "name": "python",
   "nbconvert_exporter": "python",
   "pygments_lexer": "ipython3",
   "version": "3.9.5"
  }
 },
 "nbformat": 4,
 "nbformat_minor": 5
}
