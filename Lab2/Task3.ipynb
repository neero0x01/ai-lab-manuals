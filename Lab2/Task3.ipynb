{
 "cells": [
  {
   "cell_type": "markdown",
   "id": "5bff5f8d",
   "metadata": {},
   "source": [
    "7.3\n",
    " Miles Per Gallon\n",
    "Drivers are concerned with the mileage obtained by their automobiles. One driver has kept track\n",
    "of several tankfuls of gasoline by recording miles driven and gallons used for each tankful. Develop\n",
    "a sentinel-controlled-repetition script that prompts the user to input the miles driven and gallons\n",
    "used for each tankful. The script should calculate and display the miles per gallon obtained for\n",
    "each tankful. After processing all input information, the script should calculate and display the\n",
    "combined miles per gallon obtained for all tankfuls (that is, total miles driven divided by total\n",
    "gallons used).\n",
    "•\n",
    " Enter the gallons used (-1 to end):\n",
    " 12.8\n",
    "•\n",
    " Enter the miles driven: 287\n",
    "•\n",
    " The miles/gallon for this tank was\n",
    " 22.421875\n",
    "•\n",
    " Enter the gallons used (-1 to end):\n",
    " 10.3\n",
    "•\n",
    " Enter the miles driven: 200\n",
    "•\n",
    " The miles/gallon for this tank was\n",
    " 19.417475\n",
    "•\n",
    " Enter the gallons used (-1 to end):\n",
    " 5\n",
    "•\n",
    " Enter the miles driven: 120\n",
    "•\n",
    " The miles/gallon for this tank was 24.000000\n",
    "•\n",
    " Enter the gallons used (-1 to end): -1\n",
    "•\n",
    " The overall average miles/gallon was 21.601423\n"
   ]
  },
  {
   "cell_type": "code",
   "execution_count": null,
   "id": "534f0107",
   "metadata": {},
   "outputs": [],
   "source": [
    "counter = 0\n",
    "total = 0\n",
    "while 1:\n",
    "  gallons = float(input( \"Enter the gallons used, (-1 to end): \" ))\n",
    "  if gallons == -1 and total > 0:\n",
    "    overallAverage = total / counter\n",
    "    print(f\"The overall average miles/gallon was {overallAverage}\" )\n",
    "    break\n",
    "  elif gallons == -1 and total==0:\n",
    "    print(\"No gallons were entered\")\n",
    "    break\n",
    "  miles = float(input(\"Enter the miles driven: \" ))\n",
    "  tankAvg = miles / gallons\n",
    "  print(f\"The miles per gallon for this tank was {tankAvg}\" )\n",
    "  total += tankAvg\n",
    "  counter += 1\n"
   ]
  }
 ],
 "metadata": {
  "kernelspec": {
   "display_name": "Python 3",
   "language": "python",
   "name": "python3"
  },
  "language_info": {
   "codemirror_mode": {
    "name": "ipython",
    "version": 3
   },
   "file_extension": ".py",
   "mimetype": "text/x-python",
   "name": "python",
   "nbconvert_exporter": "python",
   "pygments_lexer": "ipython3",
   "version": "3.9.5"
  }
 },
 "nbformat": 4,
 "nbformat_minor": 5
}
