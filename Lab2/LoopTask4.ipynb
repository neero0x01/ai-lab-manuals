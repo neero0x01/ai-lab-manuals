{
 "cells": [
  {
   "cell_type": "markdown",
   "id": "3d1b79ff",
   "metadata": {},
   "source": [
    "8.4\n",
    " Population\n",
    "Write a program that predicts the approximate size of a population of organisms. The application\n",
    "should allow the user to enter the starting number of organisms, the average daily population\n",
    "increase (as a percentage), and the number of days the organisms will be left to multiply. For\n",
    "example, assume the user enters the following values:\n",
    "Starting number of organisms: 2\n",
    "Average daily increase: 30%\n",
    "Number of days to multiply: 10\n",
    "The program should display the following table of data:\n",
    "Day1\n",
    "2\n",
    "Approximate\n",
    "Population\n",
    "2\n",
    "2.6\n"
   ]
  },
  {
   "cell_type": "code",
   "execution_count": null,
   "id": "902b8305",
   "metadata": {},
   "outputs": [],
   "source": [
    "initial_population = int(input('Enter the starting population of the organisms: '))\n",
    "percent_increase = float(input('Enter the avrage daily increase as a percentage: '))\n",
    "num_days = int(input('Enter the no of days the population will multiply : '))\n",
    "print('Day\\t pupolation')\n",
    "population =0\n",
    "for day in range(1,num_days+1):\n",
    "  if day == 1:\n",
    "    pupolation = initial_population\n",
    "  else:\n",
    "    pupolation *= (1+percent_increase /100)\n",
    "    print(format(day,'<5d'),format(pupolation,'12,.2f'))\n"
   ]
  }
 ],
 "metadata": {
  "kernelspec": {
   "display_name": "Python 3",
   "language": "python",
   "name": "python3"
  },
  "language_info": {
   "codemirror_mode": {
    "name": "ipython",
    "version": 3
   },
   "file_extension": ".py",
   "mimetype": "text/x-python",
   "name": "python",
   "nbconvert_exporter": "python",
   "pygments_lexer": "ipython3",
   "version": "3.9.5"
  }
 },
 "nbformat": 4,
 "nbformat_minor": 5
}
